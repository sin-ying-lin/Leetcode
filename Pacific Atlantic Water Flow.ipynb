{
 "cells": [
  {
   "cell_type": "code",
   "execution_count": 41,
   "id": "rotary-philip",
   "metadata": {},
   "outputs": [],
   "source": [
    "import collections\n",
    "\n",
    "\n",
    "def orangesRotting(grid) -> int:\n",
    "\n",
    "    nrow = len(grid)\n",
    "    ncol = len(grid[0])\n",
    "\n",
    "    queue = collections.deque()\n",
    "    fresh_oranges = 0\n",
    "\n",
    "    for i in range(nrow):\n",
    "        for j in range(ncol):\n",
    "            if grid[i][j] == 2:\n",
    "                queue.append((i,j))\n",
    "            elif grid[i][j] == 1:\n",
    "                fresh_oranges += 1\n",
    "    if fresh_oranges == 0:\n",
    "        return 0\n",
    "    queue.append((-1,-1))\n",
    "\n",
    "    directions = [(-1,0), (0,-1),(1,0), (0,1)]\n",
    "    elapse_time = -1\n",
    "    \n",
    "    while queue: \n",
    "\n",
    "        rotten_row, rotten_col = queue.popleft()\n",
    "\n",
    "        for d_row, d_col in  directions:\n",
    "            contaminated_row  = rotten_row + d_row\n",
    "            contaminated_col = rotten_col + d_col\n",
    "           \n",
    "            if nrow >  contaminated_row >= 0 and ncol >  contaminated_col >=0:\n",
    "                if grid[contaminated_row][contaminated_col] == 1:\n",
    "                    fresh_oranges -= 1\n",
    "                    grid[contaminated_row][contaminated_col] = 2\n",
    "                    queue.append((contaminated_row, contaminated_col))\n",
    "        if queue:\n",
    "            if rotten_row == -1 and rotten_col == -1:\n",
    "                elapse_time += 1\n",
    "                queue.append((-1,-1))\n",
    "   \n",
    "    return elapse_time if fresh_oranges == 0 else -1\n"
   ]
  },
  {
   "cell_type": "code",
   "execution_count": 45,
   "id": "enclosed-signal",
   "metadata": {},
   "outputs": [
    {
     "data": {
      "text/plain": [
       "3"
      ]
     },
     "execution_count": 45,
     "metadata": {},
     "output_type": "execute_result"
    }
   ],
   "source": [
    "grid = [[2,1,1],[1,1,0],[0,1,1]]\n",
    "orangesRotting(grid)"
   ]
  },
  {
   "cell_type": "code",
   "execution_count": 43,
   "id": "accomplished-antarctica",
   "metadata": {},
   "outputs": [
    {
     "data": {
      "text/plain": [
       "-1"
      ]
     },
     "execution_count": 43,
     "metadata": {},
     "output_type": "execute_result"
    }
   ],
   "source": [
    "grid = [[2,1,1],[0,1,1],[1,0,1]]\n",
    "orangesRotting(grid)"
   ]
  },
  {
   "cell_type": "code",
   "execution_count": 42,
   "id": "structural-defeat",
   "metadata": {},
   "outputs": [
    {
     "data": {
      "text/plain": [
       "0"
      ]
     },
     "execution_count": 42,
     "metadata": {},
     "output_type": "execute_result"
    }
   ],
   "source": [
    "grid = [[0,2]]\n",
    "orangesRotting(grid)"
   ]
  },
  {
   "cell_type": "code",
   "execution_count": null,
   "id": "proud-pitch",
   "metadata": {},
   "outputs": [],
   "source": []
  }
 ],
 "metadata": {
  "kernelspec": {
   "display_name": "Python 3",
   "language": "python",
   "name": "python3"
  },
  "language_info": {
   "codemirror_mode": {
    "name": "ipython",
    "version": 3
   },
   "file_extension": ".py",
   "mimetype": "text/x-python",
   "name": "python",
   "nbconvert_exporter": "python",
   "pygments_lexer": "ipython3",
   "version": "3.8.5"
  }
 },
 "nbformat": 4,
 "nbformat_minor": 5
}
