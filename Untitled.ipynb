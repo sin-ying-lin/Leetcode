{
 "cells": [
  {
   "cell_type": "code",
   "execution_count": 14,
   "id": "sublime-moment",
   "metadata": {},
   "outputs": [],
   "source": [
    "from typing import List\n",
    "from collections import deque\n",
    "def getMaximumEatenDishCount(N: int, D: List[int], K: int) -> int:\n",
    "    memo = [0]*K\n",
    "    dish = 0\n",
    "\n",
    "    for d in D:\n",
    "        if d not in memo:\n",
    "            dish += 1\n",
    "            memo.popleft()\n",
    "            memo.append(d)\n",
    "            \n",
    "    return dish"
   ]
  },
  {
   "cell_type": "code",
   "execution_count": 54,
   "id": "varying-serbia",
   "metadata": {},
   "outputs": [],
   "source": [
    "N = 50000\n",
    "D = [1, 2, 3, 2, 1, 2, 1,1,3,2]*10000\n",
    "K = 50000\n",
    "memo = {}\n",
    "\n",
    "\n",
    "for i in range(N):\n",
    "    if i < K:\n",
    "        dish += 1\n",
    "        if \n",
    "        memo[D[i]] \n",
    "    \n",
    "    if i not in memo:\n",
    "        dish += 1\n",
    "        \n",
    "        D[i-K] = D[i-K]-1\n",
    "        \n",
    "        \n",
    "        if D[i]: \n",
    "            D[i] = D[i]+1\n",
    "        else:\n",
    "            D[i] = 1"
   ]
  },
  {
   "cell_type": "code",
   "execution_count": 56,
   "id": "automated-weekly",
   "metadata": {},
   "outputs": [
    {
     "data": {
      "text/plain": [
       "{}"
      ]
     },
     "execution_count": 56,
     "metadata": {},
     "output_type": "execute_result"
    }
   ],
   "source": [
    "memo"
   ]
  },
  {
   "cell_type": "code",
   "execution_count": 31,
   "id": "optimum-receipt",
   "metadata": {},
   "outputs": [
    {
     "data": {
      "text/plain": [
       "0"
      ]
     },
     "execution_count": 31,
     "metadata": {},
     "output_type": "execute_result"
    }
   ],
   "source": [
    "a.pop(1,0)"
   ]
  },
  {
   "cell_type": "code",
   "execution_count": 34,
   "id": "renewable-marble",
   "metadata": {},
   "outputs": [
    {
     "data": {
      "text/plain": [
       "{2: 0, 1: 0}"
      ]
     },
     "execution_count": 34,
     "metadata": {},
     "output_type": "execute_result"
    }
   ],
   "source": [
    "a[1] = 0\n",
    "a"
   ]
  },
  {
   "cell_type": "code",
   "execution_count": 6,
   "id": "exclusive-pipeline",
   "metadata": {},
   "outputs": [
    {
     "data": {
      "text/plain": [
       "[2, 3]"
      ]
     },
     "execution_count": 6,
     "metadata": {},
     "output_type": "execute_result"
    }
   ],
   "source": [
    "a = [1,2]\n",
    "a.pop(0)\n",
    "a.append(3)\n",
    "a"
   ]
  }
 ],
 "metadata": {
  "kernelspec": {
   "display_name": "Python 3",
   "language": "python",
   "name": "python3"
  },
  "language_info": {
   "codemirror_mode": {
    "name": "ipython",
    "version": 3
   },
   "file_extension": ".py",
   "mimetype": "text/x-python",
   "name": "python",
   "nbconvert_exporter": "python",
   "pygments_lexer": "ipython3",
   "version": "3.8.5"
  }
 },
 "nbformat": 4,
 "nbformat_minor": 5
}
