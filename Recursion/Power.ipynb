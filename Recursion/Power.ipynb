{
 "cells": [
  {
   "cell_type": "code",
   "execution_count": 88,
   "id": "apart-newsletter",
   "metadata": {},
   "outputs": [],
   "source": [
    "#Implement pow(x, n), which calculates x raised to the power n (i.e., xn).\n",
    "\n",
    "class Solution:\n",
    "    \n",
    "    def myPow(self, x: float, n: int) -> float:\n",
    "        if n == 0:\n",
    "            return 1\n",
    "        if n == 1:\n",
    "            return x\n",
    "        if n == -1:\n",
    "            return 1/x\n",
    "        if n < -1:\n",
    "            x = 1/x\n",
    "            n = -n\n",
    "        \n",
    "        def calculation(x, n, asw):\n",
    "            if n == 1:\n",
    "                return asw*x\n",
    "            \n",
    "            return calculation(x, n-1, asw*x)\n",
    "            \n",
    "        return calculation(x, n , 1)\n",
    "            \n",
    " \n",
    "    def myPow2(self, x: float, n: int) -> float:\n",
    "        if n == 0:\n",
    "            return 1\n",
    "        if n == 1:\n",
    "            return x\n",
    "        if n == -1:\n",
    "            return 1/x\n",
    "        if n < -1:\n",
    "            x = 1/x\n",
    "            n = -n\n",
    "        \n",
    "        def calculation(x, n, asw):\n",
    "            if n == 1:\n",
    "                return asw*x\n",
    "            \n",
    "            #Speed it up \n",
    "            if n%2 == 0:\n",
    "                return calculation(x*x, n/2, asw)\n",
    "    \n",
    "            if n%2 == 1:\n",
    "                return calculation(x, n-1, asw*x)\n",
    "            \n",
    "        return calculation(x, n , 1)\n"
   ]
  },
  {
   "cell_type": "code",
   "execution_count": 92,
   "id": "empty-programmer",
   "metadata": {},
   "outputs": [],
   "source": []
  },
  {
   "cell_type": "code",
   "execution_count": 96,
   "id": "solid-artwork",
   "metadata": {},
   "outputs": [
    {
     "name": "stdout",
     "output_type": "stream",
     "text": [
      "1048576 1048576\n"
     ]
    }
   ],
   "source": [
    "#Compare Answers\n",
    "print(Solution().myPow(2,20),\n",
    "Solution().myPow2(2,20))"
   ]
  },
  {
   "cell_type": "code",
   "execution_count": 105,
   "id": "quantitative-cardiff",
   "metadata": {},
   "outputs": [
    {
     "name": "stdout",
     "output_type": "stream",
     "text": [
      "myPow - Computation Time: 0.0010429429999021522\n",
      "myPow2 - Computation Time: 0.00014900699989084387\n"
     ]
    }
   ],
   "source": [
    "#Compare Speed\n",
    "import time\n",
    "from datetime import timedelta\n",
    "\n",
    "init = time.monotonic()\n",
    "Solution().myPow(2,1000)\n",
    "print('myPow - Computation Time:',time.monotonic()- init)\n",
    "\n",
    "init = time.monotonic()\n",
    "Solution().myPow2(2,1000)\n",
    "print('myPow2 - Computation Time:', time.monotonic()- init)"
   ]
  }
 ],
 "metadata": {
  "kernelspec": {
   "display_name": "Python 3",
   "language": "python",
   "name": "python3"
  },
  "language_info": {
   "codemirror_mode": {
    "name": "ipython",
    "version": 3
   },
   "file_extension": ".py",
   "mimetype": "text/x-python",
   "name": "python",
   "nbconvert_exporter": "python",
   "pygments_lexer": "ipython3",
   "version": "3.8.5"
  }
 },
 "nbformat": 4,
 "nbformat_minor": 5
}
