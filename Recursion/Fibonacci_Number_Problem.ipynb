{
 "cells": [
  {
   "cell_type": "markdown",
   "id": "assumed-graph",
   "metadata": {},
   "source": [
    "Fibonacci Number\n",
    "F(n) = F(n-1) + F(n-2)"
   ]
  },
  {
   "cell_type": "code",
   "execution_count": 4,
   "id": "progressive-serbia",
   "metadata": {},
   "outputs": [],
   "source": [
    "def fibonacci(n):\n",
    "    \"\"\"\n",
    "    :type n: int\n",
    "    :rtype: int\n",
    "    \"\"\"\n",
    "    \n",
    "    if n < 2:\n",
    "        return n\n",
    "    else:\n",
    "        return fibonacci(n-1) + fibonacci(n-2)"
   ]
  },
  {
   "cell_type": "code",
   "execution_count": 22,
   "id": "bizarre-nickel",
   "metadata": {},
   "outputs": [
    {
     "name": "stdout",
     "output_type": "stream",
     "text": [
      "--- 0.6391160488128662 seconds ---\n"
     ]
    }
   ],
   "source": [
    "#Time Colexity O(2^n)\n",
    "#Test Run Time \n",
    "import time\n",
    "start_time = time.time()\n",
    "for i in range(30):\n",
    "        fibonacci(i)\n",
    "print(\"--- %s seconds ---\" % (time.time() - start_time))\n"
   ]
  },
  {
   "cell_type": "markdown",
   "id": "sexual-packing",
   "metadata": {},
   "source": [
    "Use a hash table to keep track of the results."
   ]
  },
  {
   "cell_type": "code",
   "execution_count": 14,
   "id": "breeding-utility",
   "metadata": {},
   "outputs": [],
   "source": [
    "def fib(N:int) -> int:\n",
    "    cache = {}\n",
    "    def recur_fib(N):\n",
    "        if N in cache:\n",
    "            return cache[N]\n",
    "        if N < 2:\n",
    "            result = N\n",
    "        else: \n",
    "            result = recur_fib(N-1) + recur_fib(N-2)\n",
    "        #put result in cahce for later reference\n",
    "        cache[N] = result\n",
    "        return result \n",
    "    \n",
    "    return recur_fib(N)\n",
    "    "
   ]
  },
  {
   "cell_type": "code",
   "execution_count": 24,
   "id": "welsh-threat",
   "metadata": {},
   "outputs": [
    {
     "name": "stdout",
     "output_type": "stream",
     "text": [
      "--- 0.00039505958557128906 seconds ---\n"
     ]
    }
   ],
   "source": [
    "#Time Colexity O(n)\n",
    "#Test Run Time \n",
    "start_time = time.time()\n",
    "for i in range(30):\n",
    "        fib(i)\n",
    "print(\"--- %s seconds ---\" % (time.time() - start_time))\n"
   ]
  }
 ],
 "metadata": {
  "kernelspec": {
   "display_name": "Python 3",
   "language": "python",
   "name": "python3"
  },
  "language_info": {
   "codemirror_mode": {
    "name": "ipython",
    "version": 3
   },
   "file_extension": ".py",
   "mimetype": "text/x-python",
   "name": "python",
   "nbconvert_exporter": "python",
   "pygments_lexer": "ipython3",
   "version": "3.8.5"
  }
 },
 "nbformat": 4,
 "nbformat_minor": 5
}
