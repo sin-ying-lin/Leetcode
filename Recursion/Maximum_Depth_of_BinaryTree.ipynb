{
 "cells": [
  {
   "cell_type": "markdown",
   "id": "cathedral-korean",
   "metadata": {},
   "source": [
    "Maximum Depth of Binary Tree"
   ]
  },
  {
   "cell_type": "code",
   "execution_count": 3,
   "id": "yellow-iraqi",
   "metadata": {},
   "outputs": [],
   "source": [
    "# Definition for a binary tree node.\n",
    "class TreeNode:\n",
    "     def __init__(self, val=0, left=None, right=None):\n",
    "            self.val = val\n",
    "            self.left = left\n",
    "            self.right = right\n",
    "\n",
    "class Solution:\n",
    "\n",
    "    def maxDepth(self, root: TreeNode) -> int:\n",
    "        if not root:\n",
    "            return 0\n",
    "        \n",
    "        l = self.maxDepth(root.left)\n",
    "        r = self.maxDepth(root.right)\n",
    "        return max(l,r) + 1"
   ]
  },
  {
   "cell_type": "code",
   "execution_count": 14,
   "id": "indonesian-ensemble",
   "metadata": {},
   "outputs": [
    {
     "data": {
      "text/plain": [
       "<__main__.TreeNode at 0x7ff54fd0f370>"
      ]
     },
     "execution_count": 14,
     "metadata": {},
     "output_type": "execute_result"
    }
   ],
   "source": [
    "case = TreeNode(1, TreeNode(2, TreeNode(3)), TreeNode(3))"
   ]
  },
  {
   "cell_type": "code",
   "execution_count": 19,
   "id": "accredited-requirement",
   "metadata": {},
   "outputs": [
    {
     "data": {
      "text/plain": [
       "3"
      ]
     },
     "execution_count": 19,
     "metadata": {},
     "output_type": "execute_result"
    }
   ],
   "source": [
    "Solution().maxDepth(case)\n"
   ]
  }
 ],
 "metadata": {
  "kernelspec": {
   "display_name": "Python 3",
   "language": "python",
   "name": "python3"
  },
  "language_info": {
   "codemirror_mode": {
    "name": "ipython",
    "version": 3
   },
   "file_extension": ".py",
   "mimetype": "text/x-python",
   "name": "python",
   "nbconvert_exporter": "python",
   "pygments_lexer": "ipython3",
   "version": "3.8.5"
  }
 },
 "nbformat": 4,
 "nbformat_minor": 5
}
