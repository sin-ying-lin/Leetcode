{
 "cells": [
  {
   "cell_type": "markdown",
   "id": "electoral-signature",
   "metadata": {},
   "source": [
    "You are climbing a staircase. It takes n steps to reach the top.\n",
    "\n",
    "Each time you can either climb 1 or 2 steps. In how many distinct ways can you climb to the top?"
   ]
  },
  {
   "cell_type": "markdown",
   "id": "average-nature",
   "metadata": {},
   "source": [
    "Explainatino: \n",
    "\n",
    "Input n = 2\n",
    "1. 1 + 1\n",
    "2. 2\n",
    "\n",
    "Input n = 3\n",
    "1. 1 + 1 + 1\n",
    "2. 2 + 1\n",
    "3. 1 + 2\n",
    "\n",
    "Input n = 4:\n",
    "1. 1 + 1 + 1 + 1\n",
    "2. 2 + 1 + 1\n",
    "3. 1 + 2 + 1\n",
    "4. 1 + 1 + 2\n",
    "5. 2 + 2\n",
    "\n",
    "Input n = 5:\n",
    "1. 1 + 1 + 1 + 1\n",
    "2. 2 + 1 + 1 + 1\n",
    "3. 1 + 2 + 1 + 1\n",
    "4. 1 + 1 + 2 + 1\n",
    "5. 2 + 2 + 1\n",
    "6. 1 + 1 +1 + 2\n",
    "7. 2 + 1 + 2\n",
    "8. 1 + 2 + 2\n",
    "\n",
    "\n",
    "Asw: Fibunacci number F(n) = F(n-1) + F(n-2) while n <=1 F(1) = 1, F(2) = 2"
   ]
  },
  {
   "cell_type": "code",
   "execution_count": 37,
   "id": "concrete-operation",
   "metadata": {},
   "outputs": [],
   "source": [
    "class Solution:\n",
    "    def climbStairs(self, n: int) -> int:\n",
    "        cache = {}\n",
    "        \n",
    "        def rec_climbStairs(n:int) -> int:\n",
    "            if n in cache: \n",
    "                return cache[n]\n",
    "            if n <= 2:\n",
    "                result = n\n",
    "            else: \n",
    "                result = rec_climbStairs(n-1) + rec_climbStairs(n-2)\n",
    "            \n",
    "            cache[n] = result\n",
    "            return result\n",
    "            \n",
    "        return rec_climbStairs(n)\n",
    "            "
   ]
  },
  {
   "cell_type": "code",
   "execution_count": 38,
   "id": "annoying-jackson",
   "metadata": {},
   "outputs": [
    {
     "data": {
      "text/plain": [
       "1836311903"
      ]
     },
     "execution_count": 38,
     "metadata": {},
     "output_type": "execute_result"
    }
   ],
   "source": [
    "instance = Solution()\n",
    "instance.climbStairs(45)\n",
    "    "
   ]
  }
 ],
 "metadata": {
  "kernelspec": {
   "display_name": "Python 3",
   "language": "python",
   "name": "python3"
  },
  "language_info": {
   "codemirror_mode": {
    "name": "ipython",
    "version": 3
   },
   "file_extension": ".py",
   "mimetype": "text/x-python",
   "name": "python",
   "nbconvert_exporter": "python",
   "pygments_lexer": "ipython3",
   "version": "3.8.5"
  }
 },
 "nbformat": 4,
 "nbformat_minor": 5
}
