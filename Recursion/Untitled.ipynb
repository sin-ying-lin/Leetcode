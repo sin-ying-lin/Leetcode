{
 "cells": [
  {
   "cell_type": "code",
   "execution_count": 11,
   "id": "spatial-aquarium",
   "metadata": {},
   "outputs": [
    {
     "data": {
      "text/plain": [
       "11"
      ]
     },
     "execution_count": 11,
     "metadata": {},
     "output_type": "execute_result"
    }
   ],
   "source": [
    "class Solution:\n",
    "    def __init__(self, memo = {}):\n",
    "        self.memo = {1:'0'}\n",
    "        \n",
    "    def kthGrammar(self, n: int, k: int) -> int:\n",
    "        \n",
    "        def helper(n):\n",
    "        \n",
    "            if n in self.memo:\n",
    "                print(n)\n",
    "                return self.memo\n",
    "\n",
    "            if n-1 not in self.memo:\n",
    "                self.kthGrammar(n-1, k)\n",
    "        \n",
    "            self.memo[n] = self.memo[n-1].replace('0', '%temp%').replace('1','10').replace('%temp%','01')\n",
    "\n",
    "            return self.memo[n]\n",
    "        \n",
    "        asw = helper(n)[n]\n",
    "        print(asw,n)\n",
    "        return asw[0]"
   ]
  }
 ],
 "metadata": {
  "kernelspec": {
   "display_name": "Python 3",
   "language": "python",
   "name": "python3"
  },
  "language_info": {
   "codemirror_mode": {
    "name": "ipython",
    "version": 3
   },
   "file_extension": ".py",
   "mimetype": "text/x-python",
   "name": "python",
   "nbconvert_exporter": "python",
   "pygments_lexer": "ipython3",
   "version": "3.8.5"
  }
 },
 "nbformat": 4,
 "nbformat_minor": 5
}
