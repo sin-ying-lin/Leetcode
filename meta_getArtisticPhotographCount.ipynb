{
 "cells": [
  {
   "cell_type": "code",
   "execution_count": 291,
   "id": "optimum-transmission",
   "metadata": {},
   "outputs": [],
   "source": [
    "def getArtisticPhotographCount(N: int, C: str, X: int, Y: int) -> int:\n",
    "    indexP = [i for i in range(len(C)) if C[i] == 'P']\n",
    "    indexA = [i for i in range(len(C)) if C[i] == 'A']\n",
    "    indexB = [i for i in range(len(C)) if C[i] == 'B']\n",
    "    asw = 0\n",
    "\n",
    "    for p in indexP:\n",
    "        for a in indexA:\n",
    "            for b in indexB:\n",
    "                if a>p and b>a and X<=abs(a-p)<=Y and X<=abs(b-a)<=Y:\n",
    "                    asw+= 1\n",
    "\n",
    "    for b in indexB:\n",
    "        for a in indexA:\n",
    "            for p in indexP:\n",
    "                if a<p and b<a and X<=abs(a-p)<=Y and X<=abs(b-a)<=Y:\n",
    "                    asw+= 1\n",
    "    return asw"
   ]
  },
  {
   "cell_type": "code",
   "execution_count": 323,
   "id": "mineral-calvin",
   "metadata": {
    "scrolled": true
   },
   "outputs": [
    {
     "name": "stdout",
     "output_type": "stream",
     "text": [
      "1 3 2\n",
      "1 3 7\n",
      "1 4 2\n",
      "1 4 7\n",
      "5 3 2\n",
      "5 3 7\n",
      "5 4 2\n",
      "5 4 7\n"
     ]
    },
    {
     "data": {
      "text/plain": [
       "3"
      ]
     },
     "execution_count": 323,
     "metadata": {},
     "output_type": "execute_result"
    }
   ],
   "source": [
    "N = 8\n",
    "C = '.PBAAP.B'\n",
    "X = 1\n",
    "Y = 3\n",
    "\n"
   ]
  }
 ],
 "metadata": {
  "kernelspec": {
   "display_name": "Python 3",
   "language": "python",
   "name": "python3"
  },
  "language_info": {
   "codemirror_mode": {
    "name": "ipython",
    "version": 3
   },
   "file_extension": ".py",
   "mimetype": "text/x-python",
   "name": "python",
   "nbconvert_exporter": "python",
   "pygments_lexer": "ipython3",
   "version": "3.8.5"
  }
 },
 "nbformat": 4,
 "nbformat_minor": 5
}
