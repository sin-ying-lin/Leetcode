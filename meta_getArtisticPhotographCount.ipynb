{
 "cells": [
  {
   "cell_type": "code",
   "execution_count": 291,
   "id": "excellent-soldier",
   "metadata": {},
   "outputs": [],
   "source": [
    "def getMaximumEatenDishCount(N: int, D: List[int], K: int) -> int:\n",
    "  # Write your code here\n",
    "  return 0"
   ]
  },
  {
   "cell_type": "code",
   "execution_count": 280,
   "id": "sitting-intake",
   "metadata": {
    "scrolled": true
   },
   "outputs": [
    {
     "ename": "MemoryError",
     "evalue": "",
     "output_type": "error",
     "traceback": [
      "\u001b[0;31m---------------------------------------------------------------------------\u001b[0m",
      "\u001b[0;31mMemoryError\u001b[0m                               Traceback (most recent call last)",
      "\u001b[0;32m<ipython-input-280-5c779a8efaf6>\u001b[0m in \u001b[0;36m<module>\u001b[0;34m\u001b[0m\n\u001b[0;32m----> 1\u001b[0;31m \u001b[0mgg\u001b[0m \u001b[0;34m=\u001b[0m \u001b[0;34m[\u001b[0m\u001b[0;36m0\u001b[0m\u001b[0;34m]\u001b[0m \u001b[0;34m*\u001b[0m \u001b[0;34m(\u001b[0m\u001b[0;36m10\u001b[0m\u001b[0;34m**\u001b[0m\u001b[0;36m14\u001b[0m\u001b[0;34m)\u001b[0m\u001b[0;34m\u001b[0m\u001b[0;34m\u001b[0m\u001b[0m\n\u001b[0m",
      "\u001b[0;31mMemoryError\u001b[0m: "
     ]
    }
   ],
   "source": [
    "N = 6\n",
    "D = [1, 2, 3, 3, 2, 1]\n",
    "K = 1\n",
    "\n"
   ]
  },
  {
   "cell_type": "code",
   "execution_count": 323,
   "id": "superior-boutique",
   "metadata": {
    "scrolled": true
   },
   "outputs": [
    {
     "name": "stdout",
     "output_type": "stream",
     "text": [
      "1 3 2\n",
      "1 3 7\n",
      "1 4 2\n",
      "1 4 7\n",
      "5 3 2\n",
      "5 3 7\n",
      "5 4 2\n",
      "5 4 7\n"
     ]
    },
    {
     "data": {
      "text/plain": [
       "3"
      ]
     },
     "execution_count": 323,
     "metadata": {},
     "output_type": "execute_result"
    }
   ],
   "source": [
    "N = 8\n",
    "C = '.PBAAP.B'\n",
    "X = 1\n",
    "Y = 3\n",
    "\n",
    "indexP = [i for i in range(len(C)) if C[i] == 'P']\n",
    "indexA = [i for i in range(len(C)) if C[i] == 'A']\n",
    "indexB = [i for i in range(len(C)) if C[i] == 'B']\n",
    "asw = 0\n",
    "\n",
    "for p in indexP:\n",
    "    for a in indexA:\n",
    "        for b in indexB:\n",
    "            print(p,a,b)\n",
    "            if a>p and b>a and X<=abs(a-p)<=Y and X<=abs(b-a)<=Y:\n",
    "                asw+= 1\n",
    "\n",
    "for b in indexB:\n",
    "    for a in indexA:\n",
    "        for p in indexP:\n",
    "            if a<p and b<a and X<=abs(a-p)<=Y and X<=abs(b-a)<=Y:\n",
    "                asw+= 1\n",
    "\n",
    "asw\n",
    "        "
   ]
  },
  {
   "cell_type": "code",
   "execution_count": 318,
   "id": "hispanic-marshall",
   "metadata": {},
   "outputs": [
    {
     "data": {
      "text/plain": [
       "[3]"
      ]
     },
     "execution_count": 318,
     "metadata": {},
     "output_type": "execute_result"
    }
   ],
   "source": []
  },
  {
   "cell_type": "code",
   "execution_count": 277,
   "id": "concrete-colonial",
   "metadata": {},
   "outputs": [
    {
     "name": "stdout",
     "output_type": "stream",
     "text": [
      "[1, 1, 1, 0, 0, 0, 1, 1, 1, 0]\n",
      "3 [1, 1, 1, 1, 1, 0, 1, 1, 1, 0]\n",
      "5 [1, 1, 1, 1, 1, 1, 1, 1, 1, 0]\n",
      "9 [1, 1, 1, 1, 1, 1, 1, 1, 1, 1, 1]\n"
     ]
    },
    {
     "data": {
      "text/plain": [
       "3"
      ]
     },
     "execution_count": 277,
     "metadata": {},
     "output_type": "execute_result"
    }
   ],
   "source": [
    "N = 10\n",
    "K = 1\n",
    "M = 2\n",
    "S = [2,8]\n",
    "\n",
    "getMaxAdditionalDinersCount(N,K,M,S)\n",
    "\n"
   ]
  },
  {
   "cell_type": "code",
   "execution_count": 278,
   "id": "aboriginal-stupid",
   "metadata": {},
   "outputs": [
    {
     "name": "stdout",
     "output_type": "stream",
     "text": [
      "[1, 1, 1, 0, 0, 0, 0, 0, 1, 1]\n",
      "3 [1, 1, 1, 1, 1, 0, 0, 0, 1, 1]\n",
      "5 [1, 1, 1, 1, 1, 1, 1, 0, 1, 1]\n",
      "7 [1, 1, 1, 1, 1, 1, 1, 1, 1, 1]\n"
     ]
    },
    {
     "data": {
      "text/plain": [
       "3"
      ]
     },
     "execution_count": 278,
     "metadata": {},
     "output_type": "execute_result"
    }
   ],
   "source": [
    "N = 10\n",
    "K = 1\n",
    "M = 2\n",
    "S = [2,10]\n",
    "\n",
    "getMaxAdditionalDinersCount(N,K,M,S)\n"
   ]
  },
  {
   "cell_type": "code",
   "execution_count": 71,
   "id": "experimental-justice",
   "metadata": {},
   "outputs": [],
   "source": [
    "1≤N≤10 \n",
    "15\n",
    " \n",
    "1 \\le K \\le N1≤K≤N\n",
    "1 \\le M \\le 500{,}0001≤M≤500,000\n",
    "M \\le NM≤N\n",
    "1 \\le S_i \\le N1≤S \n",
    "i\n",
    "​\n",
    " ≤N"
   ]
  },
  {
   "cell_type": "code",
   "execution_count": 177,
   "id": "returning-dining",
   "metadata": {},
   "outputs": [
    {
     "data": {
      "text/plain": [
       "[0, 0, 0, 1, 1, 1, 1, 1, 1, 1, 1, 1, 1, 1, 1, 1]"
      ]
     },
     "execution_count": 177,
     "metadata": {},
     "output_type": "execute_result"
    }
   ],
   "source": [
    "Seats = [0]*N\n",
    "\n",
    "for i in S:\n",
    "    if i == 1:\n",
    "        Seats[i-1:i+K] = [1]*(K+1)\n",
    "    elif i == N:\n",
    "        Seats[i-K-1:i] = [1]*(K+1)\n",
    "    else:\n",
    "        Seats[i-K-1:i+K] = [1]*(2*K+1)\n",
    "        \n",
    "Seats\n",
    "\n"
   ]
  },
  {
   "cell_type": "code",
   "execution_count": 178,
   "id": "successful-banana",
   "metadata": {},
   "outputs": [
    {
     "name": "stdout",
     "output_type": "stream",
     "text": [
      "[1, 1, 1, 1, 1, 1, 1, 1, 1, 1, 1, 1, 1, 1, 1, 1]\n"
     ]
    }
   ],
   "source": [
    "asw = 0\n",
    "for i in range(N):\n",
    "    if Seats[i] == 0:\n",
    "    \n",
    "        asw += 1\n",
    "        Seats[i:i+K+1] = [1]*(K+1)\n",
    "        print(Seats)\n",
    "\n"
   ]
  },
  {
   "cell_type": "code",
   "execution_count": 179,
   "id": "duplicate-cigarette",
   "metadata": {},
   "outputs": [
    {
     "data": {
      "text/plain": [
       "1"
      ]
     },
     "execution_count": 179,
     "metadata": {},
     "output_type": "execute_result"
    }
   ],
   "source": [
    "asw"
   ]
  }
 ],
 "metadata": {
  "kernelspec": {
   "display_name": "Python 3",
   "language": "python",
   "name": "python3"
  },
  "language_info": {
   "codemirror_mode": {
    "name": "ipython",
    "version": 3
   },
   "file_extension": ".py",
   "mimetype": "text/x-python",
   "name": "python",
   "nbconvert_exporter": "python",
   "pygments_lexer": "ipython3",
   "version": "3.8.5"
  }
 },
 "nbformat": 4,
 "nbformat_minor": 5
}
