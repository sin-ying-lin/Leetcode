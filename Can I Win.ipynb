{
 "cells": [
  {
   "cell_type": "code",
   "execution_count": 572,
   "id": "wired-manufacturer",
   "metadata": {},
   "outputs": [],
   "source": [
    "maxChoosableInteger = 6\n",
    "desiredTotal=14\n",
    "options = [i for i in range(1,n+1)]\n",
    "memory = {}\n",
    "accumulate = 0"
   ]
  },
  {
   "cell_type": "code",
   "execution_count": null,
   "id": "dutch-civilization",
   "metadata": {},
   "outputs": [],
   "source": []
  },
  {
   "cell_type": "code",
   "execution_count": 585,
   "id": "signal-pennsylvania",
   "metadata": {},
   "outputs": [],
   "source": [
    "class Solution:\n",
    "    def gamer(self, options: list, desiredTotal: int, accumulate: int, memory: dict) -> bool:\n",
    "        if len(options) == 0:\n",
    "            return False\n",
    "        state = tuple(options)\n",
    "            \n",
    "        if state in memory:\n",
    "            return memory[state]\n",
    "        \n",
    "        else:\n",
    "            memory[state] = False\n",
    "            if max(options) + accumulate >= desiredTotal:\n",
    "                memory[state] = True\n",
    "            else:\n",
    "                for x in options:\n",
    "                    newOptions = [y for y in options if y!= x]\n",
    "                    if self.gamer(newOptions, desiredTotal, x+accumulate, memory) == False:\n",
    "                        memory[state] = True\n",
    "                        break\n",
    "            return memory[state]\n",
    "        \n",
    "        \n",
    "    def canIWin(self, maxChoosableInteger: int, desiredTotal: int) -> bool:\n",
    "        if desiredTotal == 0:\n",
    "            return True\n",
    "        else:\n",
    "            options = [i for i in range(0, maxChoosableInteger+1)]\n",
    "            print(options)\n",
    "            self.gamer(options, desiredTotal, 0, {})\n",
    "      \n",
    "        \n",
    "\n",
    "            \n",
    " "
   ]
  },
  {
   "cell_type": "code",
   "execution_count": 599,
   "id": "satellite-grain",
   "metadata": {},
   "outputs": [],
   "source": [
    "class Solution:\n",
    "    def gamer(self, options, desiredTotal, accumulate, memory):\n",
    "        if len(options) == 0:\n",
    "            return False\n",
    "        state = tuple(options)\n",
    "            \n",
    "        if state in memory:\n",
    "            return memory[state]\n",
    "        else:\n",
    "            memory[state] = False\n",
    "            if max(options) + accumulate >= desiredTotal:\n",
    "                memory[state] = True\n",
    "            else:\n",
    "                for x in options:\n",
    "                    newOptions = [y for y in options if y!= x]\n",
    "                    if self.gamer(newOptions, desiredTotal, x+accumulate, memory) == False:\n",
    "                        memory[state] = True\n",
    "                        break\n",
    "            return memory[state]\n",
    "        \n",
    "        \n",
    "    def canIWin(self, maxChoosableInteger: int, desiredTotal: int) -> bool:\n",
    "        if desiredTotal == 0:\n",
    "            return True\n",
    "        else:\n",
    "            options = [i for i in range(0, maxChoosableInteger+1)]\n",
    "            return self.gamer(options, desiredTotal, 0, {})\n",
    "      \n",
    "        \n",
    "\n",
    "            \n",
    " "
   ]
  },
  {
   "cell_type": "code",
   "execution_count": 600,
   "id": "artificial-engine",
   "metadata": {},
   "outputs": [
    {
     "data": {
      "text/plain": [
       "True"
      ]
     },
     "execution_count": 600,
     "metadata": {},
     "output_type": "execute_result"
    }
   ],
   "source": [
    "s = Solution()\n",
    "s.canIWin(2,2)"
   ]
  },
  {
   "cell_type": "code",
   "execution_count": 578,
   "id": "collect-niger",
   "metadata": {},
   "outputs": [
    {
     "ename": "TypeError",
     "evalue": "unhashable type: 'list'",
     "output_type": "error",
     "traceback": [
      "\u001b[0;31m---------------------------------------------------------------------------\u001b[0m",
      "\u001b[0;31mTypeError\u001b[0m                                 Traceback (most recent call last)",
      "\u001b[0;32m<ipython-input-578-581c55bcea3e>\u001b[0m in \u001b[0;36m<module>\u001b[0;34m\u001b[0m\n\u001b[0;32m----> 1\u001b[0;31m \u001b[0mcache\u001b[0m\u001b[0;34m[\u001b[0m\u001b[0mstate\u001b[0m\u001b[0;34m]\u001b[0m \u001b[0;34m=\u001b[0m \u001b[0;32mFalse\u001b[0m\u001b[0;34m\u001b[0m\u001b[0;34m\u001b[0m\u001b[0m\n\u001b[0m\u001b[1;32m      2\u001b[0m \u001b[0mcache\u001b[0m\u001b[0;34m\u001b[0m\u001b[0;34m\u001b[0m\u001b[0m\n",
      "\u001b[0;31mTypeError\u001b[0m: unhashable type: 'list'"
     ]
    }
   ],
   "source": [
    "cache[state] = False\n",
    "cache"
   ]
  },
  {
   "cell_type": "code",
   "execution_count": 545,
   "id": "interesting-import",
   "metadata": {},
   "outputs": [],
   "source": [
    "n = 19\n",
    "t = 190\n",
    "xList = [i for i in range(1,n+1)]\n",
    "\n",
    "p1Used = []\n",
    "p2Used = []\n",
    "\n",
    "minRound = 0\n",
    "backwardSum = 0\n",
    "while backwardSum < t:\n",
    "    minRound += 1\n",
    "    backwardSum += xList[-minRound]\n",
    "    \n",
    "maxRound = 0 \n",
    "forwardSum = 0 \n",
    "while forwardSum < t:\n",
    "    maxRound += 1\n",
    "    forwardSum += xList[maxRound-1]\n",
    "    \n",
    "if minRound == 1:\n",
    "    print(True)"
   ]
  },
  {
   "cell_type": "code",
   "execution_count": 546,
   "id": "native-salmon",
   "metadata": {},
   "outputs": [
    {
     "data": {
      "text/plain": [
       "19"
      ]
     },
     "execution_count": 546,
     "metadata": {},
     "output_type": "execute_result"
    }
   ],
   "source": [
    "minRound"
   ]
  },
  {
   "cell_type": "code",
   "execution_count": 514,
   "id": "seasonal-collectible",
   "metadata": {
    "scrolled": true
   },
   "outputs": [
    {
     "name": "stdout",
     "output_type": "stream",
     "text": [
      "3 Keep Going\n",
      "4 Keep Going\n",
      "5 True\n"
     ]
    }
   ],
   "source": [
    "#Inital State\n",
    "\n",
    "for roundN in range(minRound, maxRound+1):\n",
    "\n",
    "    if roundN%2 == 1:\n",
    "        p1Moves = sum(divmod(roundN, 2))\n",
    "        p2Moves = roundN//2\n",
    "\n",
    "        p1Max = sum(p1Used) + sum(xList[-p1Moves+len(p1Used):])\n",
    "        p2Options = [i for i in combinations(xList[:p1Moves+len(p1Used)], \n",
    "                                             p2Moves-len(p2Used)) if sum(i) < t-p1Max]\n",
    "        if p2Options:\n",
    "            p2Used.extend(p2Options[-1])\n",
    "            xList = list(set(xList) - set(p2Used))\n",
    "            print(roundN, 'Keep Going')\n",
    "        else:\n",
    "            print(roundN, True)\n",
    "            break\n",
    "            \n",
    "    if roundN%2 == 0:\n",
    "        p1Moves = p2Moves = roundN//2\n",
    "\n",
    "        p2Max = sum(p2Used) + sum(xList[-p2Moves+len(p2Used):])\n",
    "        p1Options = [i for i in combinations(xList[:-p2Moves+len(p2Used)],\n",
    "                                                   p1Moves-len(p1Used)) if sum(i) < t-p2Max]\n",
    "\n",
    "        if p1Options:\n",
    "            p1Used.extend(p1Options[-1])\n",
    "            xList = list(set(xList) - set(p1Used))\n",
    "            print (roundN, 'Keep Going')\n",
    "        else:\n",
    "            print(roundN, False)\n",
    "            break\n",
    "\n",
    "    "
   ]
  },
  {
   "cell_type": "code",
   "execution_count": 517,
   "id": "animated-conversion",
   "metadata": {},
   "outputs": [],
   "source": [
    "roundN=3"
   ]
  },
  {
   "cell_type": "code",
   "execution_count": 518,
   "id": "toxic-secret",
   "metadata": {},
   "outputs": [
    {
     "name": "stdout",
     "output_type": "stream",
     "text": [
      "3 Keep Going\n"
     ]
    }
   ],
   "source": [
    "    if roundN%2 == 1:\n",
    "        p1Moves = sum(divmod(roundN, 2))\n",
    "        p2Moves = roundN//2\n",
    "\n",
    "        p1Max = sum(p1Used) + sum(xList[-p1Moves+len(p1Used):])\n",
    "        p2Options = [i for i in combinations(xList[:p1Moves+len(p1Used)], \n",
    "                                             p2Moves-len(p2Used)) if sum(i) < t-p1Max]\n",
    "        if p2Options:\n",
    "            p2Used.extend(p2Options[-1])\n",
    "            xList = list(set(xList) - set(p2Used))\n",
    "            print(roundN, 'Keep Going')\n",
    "        else:\n",
    "            print(roundN, True)"
   ]
  },
  {
   "cell_type": "code",
   "execution_count": 520,
   "id": "impaired-visitor",
   "metadata": {},
   "outputs": [],
   "source": [
    "roundN = 4"
   ]
  },
  {
   "cell_type": "code",
   "execution_count": 521,
   "id": "contrary-visitor",
   "metadata": {},
   "outputs": [
    {
     "name": "stdout",
     "output_type": "stream",
     "text": [
      "4 Keep Going\n"
     ]
    }
   ],
   "source": [
    "    if roundN%2 == 0:\n",
    "        p1Moves = p2Moves = roundN//2\n",
    "\n",
    "        p2Max = sum(p2Used) + sum(xList[-p2Moves+len(p2Used):])\n",
    "        p1Options = [i for i in combinations(xList[:-p2Moves+len(p2Used)],\n",
    "                                                   p1Moves-len(p1Used)) if sum(i) < t-p2Max]\n",
    "\n",
    "        if p1Options:\n",
    "            p1Used.extend(p1Options[-1])\n",
    "            xList = list(set(xList) - set(p1Used))\n",
    "            print (roundN, 'Keep Going')\n",
    "        else:\n",
    "            print(roundN, False)\n",
    "        "
   ]
  },
  {
   "cell_type": "code",
   "execution_count": 534,
   "id": "geological-boundary",
   "metadata": {},
   "outputs": [
    {
     "data": {
      "text/plain": [
       "20"
      ]
     },
     "execution_count": 534,
     "metadata": {},
     "output_type": "execute_result"
    }
   ],
   "source": [
    "len([i for i in permutations([1,2,3,4,5], 2)])"
   ]
  },
  {
   "cell_type": "code",
   "execution_count": 532,
   "id": "superb-captain",
   "metadata": {},
   "outputs": [
    {
     "data": {
      "text/plain": [
       "[(3, 5, 6),\n",
       " (3, 6, 5),\n",
       " (4, 5, 6),\n",
       " (4, 6, 5),\n",
       " (5, 3, 6),\n",
       " (5, 4, 6),\n",
       " (5, 6, 3),\n",
       " (5, 6, 4),\n",
       " (6, 3, 5),\n",
       " (6, 4, 5),\n",
       " (6, 5, 3),\n",
       " (6, 5, 4)]"
      ]
     },
     "execution_count": 532,
     "metadata": {},
     "output_type": "execute_result"
    }
   ],
   "source": [
    "from itertools import permutations  \n",
    "\n",
    "[i for i in permutations([1,2,3,4,5,6], 3) if sum(i) >= 14]"
   ]
  },
  {
   "cell_type": "code",
   "execution_count": 543,
   "id": "certain-europe",
   "metadata": {},
   "outputs": [
    {
     "data": {
      "text/plain": [
       "[(1, 2, 5, 6),\n",
       " (1, 2, 6, 5),\n",
       " (1, 3, 4, 6),\n",
       " (1, 3, 5, 6),\n",
       " (1, 3, 6, 4),\n",
       " (1, 3, 6, 5),\n",
       " (1, 4, 3, 6),\n",
       " (1, 4, 5, 6),\n",
       " (1, 4, 6, 3),\n",
       " (1, 4, 6, 5),\n",
       " (1, 5, 2, 6),\n",
       " (1, 5, 3, 6),\n",
       " (1, 5, 4, 6),\n",
       " (1, 5, 6, 2),\n",
       " (1, 5, 6, 3),\n",
       " (1, 5, 6, 4),\n",
       " (1, 6, 2, 5),\n",
       " (1, 6, 3, 4),\n",
       " (1, 6, 3, 5),\n",
       " (1, 6, 4, 3),\n",
       " (1, 6, 4, 5),\n",
       " (1, 6, 5, 2),\n",
       " (1, 6, 5, 3),\n",
       " (1, 6, 5, 4),\n",
       " (2, 1, 5, 6),\n",
       " (2, 1, 6, 5),\n",
       " (2, 3, 4, 5),\n",
       " (2, 3, 4, 6),\n",
       " (2, 3, 5, 4),\n",
       " (2, 3, 5, 6),\n",
       " (2, 3, 6, 4),\n",
       " (2, 3, 6, 5),\n",
       " (2, 4, 3, 5),\n",
       " (2, 4, 3, 6),\n",
       " (2, 4, 5, 3),\n",
       " (2, 4, 5, 6),\n",
       " (2, 4, 6, 3),\n",
       " (2, 4, 6, 5),\n",
       " (2, 5, 1, 6),\n",
       " (2, 5, 3, 4),\n",
       " (2, 5, 3, 6),\n",
       " (2, 5, 4, 3),\n",
       " (2, 5, 4, 6),\n",
       " (2, 5, 6, 1),\n",
       " (2, 5, 6, 3),\n",
       " (2, 5, 6, 4),\n",
       " (2, 6, 1, 5),\n",
       " (2, 6, 3, 4),\n",
       " (2, 6, 3, 5),\n",
       " (2, 6, 4, 3),\n",
       " (2, 6, 4, 5),\n",
       " (2, 6, 5, 1),\n",
       " (2, 6, 5, 3),\n",
       " (2, 6, 5, 4),\n",
       " (3, 1, 4, 6),\n",
       " (3, 1, 5, 6),\n",
       " (3, 1, 6, 4),\n",
       " (3, 1, 6, 5),\n",
       " (3, 2, 4, 5),\n",
       " (3, 2, 4, 6),\n",
       " (3, 2, 5, 4),\n",
       " (3, 2, 5, 6),\n",
       " (3, 2, 6, 4),\n",
       " (3, 2, 6, 5),\n",
       " (3, 4, 1, 6),\n",
       " (3, 4, 2, 5),\n",
       " (3, 4, 2, 6),\n",
       " (3, 4, 5, 2),\n",
       " (3, 4, 5, 6),\n",
       " (3, 4, 6, 1),\n",
       " (3, 4, 6, 2),\n",
       " (3, 4, 6, 5),\n",
       " (3, 5, 1, 6),\n",
       " (3, 5, 2, 4),\n",
       " (3, 5, 2, 6),\n",
       " (3, 5, 4, 2),\n",
       " (3, 5, 4, 6),\n",
       " (3, 6, 1, 4),\n",
       " (3, 6, 1, 5),\n",
       " (3, 6, 2, 4),\n",
       " (3, 6, 2, 5),\n",
       " (3, 6, 4, 1),\n",
       " (3, 6, 4, 2),\n",
       " (3, 6, 4, 5),\n",
       " (4, 1, 3, 6),\n",
       " (4, 1, 5, 6),\n",
       " (4, 1, 6, 3),\n",
       " (4, 1, 6, 5),\n",
       " (4, 2, 3, 5),\n",
       " (4, 2, 3, 6),\n",
       " (4, 2, 5, 3),\n",
       " (4, 2, 5, 6),\n",
       " (4, 2, 6, 3),\n",
       " (4, 2, 6, 5),\n",
       " (4, 3, 1, 6),\n",
       " (4, 3, 2, 5),\n",
       " (4, 3, 2, 6),\n",
       " (4, 3, 5, 2),\n",
       " (4, 3, 5, 6),\n",
       " (4, 3, 6, 1),\n",
       " (4, 3, 6, 2),\n",
       " (4, 3, 6, 5),\n",
       " (4, 5, 1, 6),\n",
       " (4, 5, 2, 3),\n",
       " (4, 5, 2, 6),\n",
       " (4, 5, 3, 2),\n",
       " (4, 5, 3, 6),\n",
       " (4, 6, 1, 3),\n",
       " (4, 6, 1, 5),\n",
       " (4, 6, 2, 3),\n",
       " (4, 6, 2, 5),\n",
       " (4, 6, 3, 1),\n",
       " (4, 6, 3, 2),\n",
       " (4, 6, 3, 5),\n",
       " (5, 1, 2, 6),\n",
       " (5, 1, 3, 6),\n",
       " (5, 1, 4, 6),\n",
       " (5, 1, 6, 2),\n",
       " (5, 1, 6, 3),\n",
       " (5, 1, 6, 4),\n",
       " (5, 2, 1, 6),\n",
       " (5, 2, 3, 4),\n",
       " (5, 2, 3, 6),\n",
       " (5, 2, 4, 3),\n",
       " (5, 2, 4, 6),\n",
       " (5, 2, 6, 1),\n",
       " (5, 2, 6, 3),\n",
       " (5, 2, 6, 4),\n",
       " (5, 3, 1, 6),\n",
       " (5, 3, 2, 4),\n",
       " (5, 3, 2, 6),\n",
       " (5, 3, 4, 2),\n",
       " (5, 3, 4, 6),\n",
       " (5, 4, 1, 6),\n",
       " (5, 4, 2, 3),\n",
       " (5, 4, 2, 6),\n",
       " (5, 4, 3, 2),\n",
       " (5, 4, 3, 6),\n",
       " (5, 6, 1, 2),\n",
       " (5, 6, 1, 3),\n",
       " (5, 6, 1, 4),\n",
       " (5, 6, 2, 1),\n",
       " (5, 6, 2, 3),\n",
       " (5, 6, 2, 4),\n",
       " (6, 1, 2, 5),\n",
       " (6, 1, 3, 4),\n",
       " (6, 1, 3, 5),\n",
       " (6, 1, 4, 3),\n",
       " (6, 1, 4, 5),\n",
       " (6, 1, 5, 2),\n",
       " (6, 1, 5, 3),\n",
       " (6, 1, 5, 4),\n",
       " (6, 2, 1, 5),\n",
       " (6, 2, 3, 4),\n",
       " (6, 2, 3, 5),\n",
       " (6, 2, 4, 3),\n",
       " (6, 2, 4, 5),\n",
       " (6, 2, 5, 1),\n",
       " (6, 2, 5, 3),\n",
       " (6, 2, 5, 4),\n",
       " (6, 3, 1, 4),\n",
       " (6, 3, 1, 5),\n",
       " (6, 3, 2, 4),\n",
       " (6, 3, 2, 5),\n",
       " (6, 3, 4, 1),\n",
       " (6, 3, 4, 2),\n",
       " (6, 3, 4, 5),\n",
       " (6, 4, 1, 3),\n",
       " (6, 4, 1, 5),\n",
       " (6, 4, 2, 3),\n",
       " (6, 4, 2, 5),\n",
       " (6, 4, 3, 1),\n",
       " (6, 4, 3, 2),\n",
       " (6, 4, 3, 5),\n",
       " (6, 5, 1, 2),\n",
       " (6, 5, 1, 3),\n",
       " (6, 5, 1, 4),\n",
       " (6, 5, 2, 1),\n",
       " (6, 5, 2, 3),\n",
       " (6, 5, 2, 4)]"
      ]
     },
     "execution_count": 543,
     "metadata": {},
     "output_type": "execute_result"
    }
   ],
   "source": [
    "for i in 1:6\n",
    "[i for i in permutations([1,2,3,4,5,6], 4) if sum(i) >= 14 and sum(i[:3]) < 14]"
   ]
  },
  {
   "cell_type": "code",
   "execution_count": 423,
   "id": "colonial-pledge",
   "metadata": {},
   "outputs": [],
   "source": [
    "roundN = 5"
   ]
  },
  {
   "cell_type": "code",
   "execution_count": 424,
   "id": "continued-reaction",
   "metadata": {},
   "outputs": [
    {
     "name": "stdout",
     "output_type": "stream",
     "text": [
      "True\n"
     ]
    }
   ],
   "source": [
    "#Inital State\n",
    "\n",
    "\n",
    "if roundN%2 == 1:\n",
    "    p1Moves = sum(divmod(round, 2))\n",
    "    p2Moves = round//2\n",
    "    \n",
    "    p1Max = sum(p1Used) + sum(xList[-p1Moves+len(p1Used):])\n",
    "    p2Options = [i for i in combinations(xList[:p1Moves+len(p1Used)], \n",
    "                                         p2Moves-len(p2Used)) if sum(i) < t-p1Max]\n",
    "    if p2Options:\n",
    "        p2Used.extend(p2Options[-1])\n",
    "        xList = list(set(xList) - set(p2Used))\n",
    "        print('Keep Going')\n",
    "    else:\n",
    "        print(True)\n",
    "\n",
    "    "
   ]
  },
  {
   "cell_type": "code",
   "execution_count": 422,
   "id": "selected-frank",
   "metadata": {},
   "outputs": [
    {
     "data": {
      "text/plain": [
       "4"
      ]
     },
     "execution_count": 422,
     "metadata": {},
     "output_type": "execute_result"
    }
   ],
   "source": []
  },
  {
   "cell_type": "code",
   "execution_count": 244,
   "id": "excessive-franklin",
   "metadata": {},
   "outputs": [],
   "source": [
    "if roundN%2 == 1:\n",
    "    p1Moves = sum(divmod(round, 2))\n",
    "    p2Moves = round//2\n",
    "    \n",
    "    p1Max = sum(p1Used) + sum(xList[-p1Moves+len(p1Used):])\n",
    "    p2Options = [i for i in combinations(xList[:p1Moves+len(p1Used)], \n",
    "                                         p2Moves) if sum(i) < t-p1Max]\n",
    "    if p2Options:\n",
    "        p2Used.extend(p2Options[-1])\n",
    "        xList = list(set(xList) - set(p2Used))\n",
    "        print('Keep Going')\n",
    "    else:\n",
    "        print(True)"
   ]
  },
  {
   "cell_type": "code",
   "execution_count": 250,
   "id": "geographic-champion",
   "metadata": {},
   "outputs": [
    {
     "data": {
      "text/plain": [
       "[1, 2, 3, 4, 5]"
      ]
     },
     "execution_count": 250,
     "metadata": {},
     "output_type": "execute_result"
    }
   ],
   "source": [
    "p1Options.app"
   ]
  },
  {
   "cell_type": "code",
   "execution_count": 255,
   "id": "subsequent-investment",
   "metadata": {},
   "outputs": [
    {
     "name": "stdout",
     "output_type": "stream",
     "text": [
      "3 [1, 2, 3] True\n"
     ]
    }
   ],
   "source": [
    "p2Prev = [0]\n",
    "p1PrevMax = [0]\n",
    "\n",
    "for requiredNum in test:\n",
    "    moves = requiredNum//2\n",
    "    u1 = xList.copy()\n",
    "    if moves >= 1:\n",
    "        p2Prev.append(t-sum(u1[-moves-1:])-1-sum(p2Prev))\n",
    "        u1 = list(set(u1) - set(p2Prev))\n",
    "        \n",
    "        [i for i in combination(u1, moves) if sum(i) < t-p2Prev-max(u1)]\n",
    "           \n",
    "        \n",
    "        p1Prev.append\n",
    "        u1Used = u1[len(u1)-moves*2:]\n",
    "        while sum(u1Used) >= t:\n",
    "            u1Used[0] -= 1\n",
    "        p1PrevMax = [u1Used[0],u1Used[-1]]\n",
    "        u1 = list(set(u1) - set(p1PrevMax))\n",
    "    p1Max = sum(p1PrevMax) + max(u1)\n",
    "    p2Min = sum(u1[0:moves])\n",
    "    if p1Max + p2Min >= t:\n",
    "        print(requiredNum, u1, True)"
   ]
  },
  {
   "cell_type": "code",
   "execution_count": 298,
   "id": "disturbed-watch",
   "metadata": {},
   "outputs": [
    {
     "data": {
      "text/plain": [
       "[(1, 2, 3),\n",
       " (1, 2, 4),\n",
       " (1, 2, 5),\n",
       " (1, 3, 4),\n",
       " (1, 3, 5),\n",
       " (1, 4, 5),\n",
       " (2, 3, 4),\n",
       " (2, 3, 5),\n",
       " (2, 4, 5),\n",
       " (3, 4, 5)]"
      ]
     },
     "execution_count": 298,
     "metadata": {},
     "output_type": "execute_result"
    }
   ],
   "source": [
    "list(combinations(xList, 3))"
   ]
  },
  {
   "cell_type": "code",
   "execution_count": 299,
   "id": "crazy-dayton",
   "metadata": {},
   "outputs": [
    {
     "data": {
      "text/plain": [
       "[(1, 2, 3, 4), (1, 2, 3, 5), (1, 2, 4, 5), (1, 3, 4, 5), (2, 3, 4, 5)]"
      ]
     },
     "execution_count": 299,
     "metadata": {},
     "output_type": "execute_result"
    }
   ],
   "source": [
    "list(combinations(xList, 4))"
   ]
  },
  {
   "cell_type": "code",
   "execution_count": 300,
   "id": "tough-chemistry",
   "metadata": {},
   "outputs": [
    {
     "data": {
      "text/plain": [
       "[(1, 2, 3, 4, 5)]"
      ]
     },
     "execution_count": 300,
     "metadata": {},
     "output_type": "execute_result"
    }
   ],
   "source": [
    "list(combinations(xList, 5))"
   ]
  },
  {
   "cell_type": "code",
   "execution_count": 488,
   "id": "lined-gambling",
   "metadata": {},
   "outputs": [],
   "source": [
    "firstPlayerMax = 0\n",
    "secondPlayerMax = 0\n",
    "u1 = xList.copy()\n",
    "u2 = xList.copy()\n",
    "u1Res = []\n",
    "u2Res = 0\n",
    "firstPlayerSpots = 0\n",
    "secondPlayerSpots = 0"
   ]
  },
  {
   "cell_type": "code",
   "execution_count": 489,
   "id": "judicial-commonwealth",
   "metadata": {},
   "outputs": [
    {
     "name": "stdout",
     "output_type": "stream",
     "text": [
      "7 [10, 9, 8] 27 34 6 True\n",
      "8 34 32 10 False\n",
      "9 [10, 9, 8, 7] 32 40 10 True\n"
     ]
    }
   ],
   "source": [
    "if minRequiredNum == 1:\n",
    "    print(True)\n",
    "\n",
    "secondPlayerSpots += 1\n",
    "firstPlayerSpots += 1\n",
    "secondPlayerMax = max(u2)\n",
    "firstPlayerMin = sum(u2[:firstPlayerSpots]) \n",
    "if firstPlayerMin + secondPlayerMax >= t:\n",
    "    print(2, False)\n",
    "     \n",
    "if minRequiredNum >= 3:\n",
    "    for requiredNum in range(3, maxRequiredNum+1):\n",
    "        if requiredNum%2 == 0:\n",
    "            secondPlayerSpots += 1\n",
    "            secondPlayerRestriction = max([i for i in u2 if i < t-firstPlayerMax])\n",
    "            u2Res += secondPlayerRestriction\n",
    "            u2.pop(u2.index(secondPlayerRestriction))\n",
    "            secondPlayerMax = max(u2)+ u2Res\n",
    "            firstPlayerMin = sum(u2[:firstPlayerSpots]) \n",
    "            if firstPlayerMin + secondPlayerMax >= t:\n",
    "                print(requiredNum, firstPlayerMax, secondPlayerMax, firstPlayerMin, False)\n",
    "\n",
    "        if requiredNum%2 == 1:\n",
    "            firstPlayerSpots += 1\n",
    "            firstPlayerRestriction = max([i for i in u1 if i+u1 < t-secondPlayerMax])\n",
    "            u1Res.append(firstPlayerRestriction)\n",
    "            u1.pop(u1.index(firstPlayerRestriction))\n",
    "            firstPlayerMax = max(u1) + sum(u1Res)\n",
    "            secondPlayerMin = sum(u1[:secondPlayerSpots]) \n",
    "            if firstPlayerMax + secondPlayerMin >= t:\n",
    "                print(requiredNum, u1Res, secondPlayerMax, firstPlayerMax, secondPlayerMin, True)\n",
    "\n",
    "        "
   ]
  },
  {
   "cell_type": "code",
   "execution_count": 98,
   "id": "dominant-campbell",
   "metadata": {},
   "outputs": [],
   "source": [
    "n = 6\n",
    "t = 17\n",
    "xList = [i for i in range(1,n+1)]\n",
    "\n",
    "minRequiredNum = 0\n",
    "backwardSum = 0\n",
    "while backwardSum < t:\n",
    "    minRequiredNum += 1\n",
    "    backwardSum += xList[-minRequiredNum]\n",
    "    \n",
    "maxRequiredNum = 0 \n",
    "forwardSum = 0 \n",
    "while forwardSum < t:\n",
    "    maxRequiredNum += 1\n",
    "    forwardSum += xList[maxRequiredNum-1]"
   ]
  },
  {
   "cell_type": "code",
   "execution_count": 582,
   "id": "republican-singing",
   "metadata": {},
   "outputs": [
    {
     "data": {
      "text/plain": [
       "False"
      ]
     },
     "execution_count": 582,
     "metadata": {},
     "output_type": "execute_result"
    }
   ],
   "source": [
    "max(options) + accumulate >= desiredTotal"
   ]
  },
  {
   "cell_type": "code",
   "execution_count": 584,
   "id": "becoming-academy",
   "metadata": {},
   "outputs": [
    {
     "data": {
      "text/plain": [
       "6"
      ]
     },
     "execution_count": 584,
     "metadata": {},
     "output_type": "execute_result"
    }
   ],
   "source": [
    "m"
   ]
  },
  {
   "cell_type": "code",
   "execution_count": 111,
   "id": "sharp-integration",
   "metadata": {},
   "outputs": [
    {
     "name": "stdout",
     "output_type": "stream",
     "text": [
      "6 False\n"
     ]
    }
   ],
   "source": [
    "firstPlayerMax = 0\n",
    "secondPlayerMax = 0\n",
    "\n",
    "for requiredNum in range(minRequiredNum, maxRequiredNum+1):\n",
    "    if requiredNum%2 == 1:\n",
    "        u1Used = [0]\n",
    "        u1 = xList.copy()\n",
    "        moves = requiredNum//2\n",
    "        firstPlayerPreMax = t-secondPlayerMax\n",
    "        i = -1\n",
    "        if moves >=1:\n",
    "            while sum(u1Used) < firstPlayerPreMax and max(u1Used) < max(u1): \n",
    "                i += 1\n",
    "                u1Used = u1[i:(moves+i)]\n",
    "            u1Used = u1[i-1:(moves+i-1)]\n",
    "        u1 = list(set(u1)-set(u1Used))\n",
    "        firstPlayerMax = max(u1) + sum(u1Used)\n",
    "        secondPlayerMin = sum(u1[:moves]) \n",
    "        if firstPlayerMax + secondPlayerMin >= t:\n",
    "            print(requiredNum, True)\n",
    "                \n",
    "    if requiredNum%2 == 0:\n",
    "        u2Used = [0]\n",
    "        u2 = xList.copy()\n",
    "        moves = requiredNum//2\n",
    "        secondPlayerPreMax = t-firstPlayerMax\n",
    "        i = -1\n",
    "        if moves >=2:\n",
    "            while sum(u2Used) < secondPlayerPreMax and max(u2Used) < max(u2): \n",
    "                i += 1\n",
    "                u2Used = u2[i:moves+i-1]\n",
    "            u2Used = u2[i-1:moves+i-2]    \n",
    "        u2 = list(set(u2)-set(u2Used))\n",
    "        secondPlayerMax = max(u2) + sum(u2Used)\n",
    "        firstPlayerMin = sum(u2[:moves]) \n",
    "        if secondPlayerMax + firstPlayerMin >= t:\n",
    "            print(requiredNum, False)\n",
    "        \n",
    "        "
   ]
  },
  {
   "cell_type": "code",
   "execution_count": 108,
   "id": "native-senegal",
   "metadata": {},
   "outputs": [],
   "source": [
    "    secondPlayerMax=11\n",
    "    requiredNum = 5\n",
    "    if requiredNum%2 == 1:\n",
    "        u1Used = [0]\n",
    "        u1 = xList.copy()\n",
    "        moves = requiredNum//2\n",
    "        firstPlayerPreMax = t-secondPlayerMax\n",
    "        i = -1\n",
    "        if moves >=1:\n",
    "            while sum(u1Used) < firstPlayerPreMax and max(u1Used) < max(u1): \n",
    "                i += 1\n",
    "                u1Used = u1[i:(moves+i)]\n",
    "                \n",
    "            u1Used = u1[i-1:(moves+i-1)]\n",
    "        u1 = list(set(u1)-set(u1Used))\n",
    "        firstPlayerMax = max(u1) + sum(u1Used)\n",
    "        secondPlayerMin = sum(u1[:moves]) \n",
    "        if firstPlayerMax + secondPlayerMin >= t:\n",
    "            print(requiredNum, True)"
   ]
  },
  {
   "cell_type": "code",
   "execution_count": 110,
   "id": "occupational-miami",
   "metadata": {},
   "outputs": [
    {
     "data": {
      "text/plain": [
       "[1, 4]"
      ]
     },
     "execution_count": 110,
     "metadata": {},
     "output_type": "execute_result"
    }
   ],
   "source": [
    "u1[:moves]"
   ]
  },
  {
   "cell_type": "code",
   "execution_count": 105,
   "id": "sixth-dominican",
   "metadata": {},
   "outputs": [],
   "source": [
    "secondPlayerMin = sum(u1[:moves]) "
   ]
  },
  {
   "cell_type": "code",
   "execution_count": 107,
   "id": "prostate-irrigation",
   "metadata": {},
   "outputs": [
    {
     "data": {
      "text/plain": [
       "[1, 2, 3, 4, 5, 6]"
      ]
     },
     "execution_count": 107,
     "metadata": {},
     "output_type": "execute_result"
    }
   ],
   "source": [
    "u1"
   ]
  },
  {
   "cell_type": "code",
   "execution_count": 544,
   "id": "stuffed-dance",
   "metadata": {
    "scrolled": true
   },
   "outputs": [
    {
     "name": "stdout",
     "output_type": "stream",
     "text": [
      "19\n",
      "0\n",
      "19\n",
      "1\n",
      "19\n",
      "2\n",
      "19\n",
      "3\n",
      "19\n",
      "4\n",
      "19\n",
      "5\n",
      "19\n",
      "6\n",
      "19\n",
      "7\n",
      "19\n",
      "8\n",
      "19\n",
      "9\n",
      "19\n",
      "10\n",
      "19\n",
      "11\n",
      "19\n",
      "12\n",
      "19\n",
      "13\n",
      "19\n",
      "14\n",
      "19\n",
      "15\n",
      "19\n",
      "16\n",
      "19\n",
      "17\n",
      "19\n",
      "18\n",
      "19\n",
      "19\n",
      "19\n",
      "20\n",
      "19\n",
      "21\n",
      "19\n",
      "22\n",
      "19\n",
      "23\n",
      "19\n",
      "24\n",
      "19\n",
      "25\n",
      "19\n",
      "26\n",
      "19\n",
      "27\n",
      "19\n",
      "28\n",
      "19\n",
      "29\n",
      "19\n",
      "30\n",
      "19\n",
      "31\n",
      "19\n",
      "32\n",
      "19\n",
      "33\n",
      "19\n",
      "34\n",
      "19\n",
      "35\n",
      "19\n",
      "36\n",
      "19\n",
      "37\n",
      "19\n",
      "38\n",
      "19\n",
      "39\n",
      "19\n",
      "40\n",
      "19\n",
      "41\n",
      "19\n",
      "42\n",
      "19\n",
      "43\n",
      "19\n",
      "44\n",
      "19\n",
      "45\n",
      "19\n",
      "46\n",
      "19\n",
      "47\n",
      "19\n",
      "48\n",
      "19\n",
      "49\n",
      "19\n",
      "50\n",
      "19\n",
      "51\n",
      "19\n",
      "52\n",
      "19\n",
      "53\n",
      "19\n",
      "54\n",
      "19\n",
      "55\n",
      "19\n",
      "56\n",
      "19\n",
      "57\n",
      "19\n",
      "58\n",
      "19\n",
      "59\n",
      "19\n",
      "60\n",
      "19\n",
      "61\n",
      "19\n",
      "62\n",
      "19\n",
      "63\n",
      "19\n",
      "64\n",
      "19\n",
      "65\n",
      "19\n",
      "66\n",
      "19\n",
      "67\n",
      "19\n",
      "68\n",
      "19\n",
      "69\n",
      "19\n",
      "70\n",
      "19\n",
      "71\n",
      "19\n",
      "72\n",
      "19\n",
      "73\n",
      "19\n",
      "74\n",
      "19\n",
      "75\n",
      "19\n",
      "76\n",
      "19\n",
      "77\n",
      "19\n",
      "78\n",
      "19\n",
      "79\n",
      "19\n",
      "80\n",
      "19\n",
      "81\n",
      "19\n",
      "82\n",
      "19\n",
      "83\n",
      "19\n",
      "84\n",
      "19\n",
      "85\n",
      "19\n",
      "86\n",
      "19\n",
      "87\n",
      "19\n",
      "88\n",
      "19\n",
      "89\n",
      "19\n",
      "90\n",
      "19\n",
      "91\n",
      "19\n",
      "92\n",
      "19\n",
      "93\n",
      "19\n",
      "94\n",
      "19\n",
      "95\n",
      "19\n",
      "96\n",
      "19\n",
      "97\n",
      "19\n",
      "98\n",
      "19\n",
      "99\n",
      "19\n",
      "100\n",
      "19\n",
      "101\n",
      "19\n",
      "102\n",
      "19\n",
      "103\n",
      "19\n",
      "104\n",
      "19\n",
      "105\n",
      "19\n",
      "106\n",
      "19\n",
      "107\n",
      "19\n",
      "108\n",
      "19\n",
      "109\n",
      "19\n",
      "110\n",
      "19\n",
      "111\n",
      "19\n",
      "112\n",
      "19\n",
      "113\n",
      "19\n",
      "114\n",
      "19\n",
      "115\n",
      "19\n",
      "116\n",
      "19\n",
      "117\n",
      "19\n",
      "118\n",
      "19\n",
      "119\n",
      "19\n",
      "120\n",
      "19\n",
      "121\n",
      "19\n",
      "122\n",
      "19\n",
      "123\n",
      "19\n",
      "124\n",
      "19\n",
      "125\n",
      "19\n",
      "126\n",
      "19\n",
      "127\n",
      "19\n",
      "128\n",
      "19\n",
      "129\n",
      "19\n",
      "130\n",
      "19\n",
      "131\n",
      "19\n",
      "132\n",
      "19\n",
      "133\n",
      "19\n",
      "134\n",
      "19\n",
      "135\n",
      "19\n",
      "136\n",
      "19\n",
      "137\n",
      "19\n",
      "138\n",
      "19\n",
      "139\n",
      "19\n",
      "140\n",
      "19\n",
      "141\n",
      "19\n",
      "142\n",
      "19\n",
      "143\n",
      "19\n",
      "144\n",
      "19\n",
      "145\n",
      "19\n",
      "146\n",
      "19\n",
      "147\n",
      "19\n",
      "148\n",
      "19\n",
      "149\n",
      "19\n",
      "150\n",
      "19\n",
      "151\n",
      "19\n",
      "152\n",
      "19\n",
      "153\n",
      "19\n",
      "154\n",
      "19\n",
      "155\n",
      "19\n",
      "156\n",
      "19\n",
      "157\n",
      "19\n",
      "158\n",
      "19\n",
      "159\n",
      "19\n",
      "160\n",
      "19\n",
      "161\n",
      "19\n",
      "162\n",
      "19\n",
      "163\n",
      "19\n",
      "164\n",
      "19\n",
      "165\n",
      "19\n",
      "166\n",
      "19\n",
      "167\n",
      "19\n",
      "168\n",
      "19\n",
      "169\n",
      "19\n",
      "170\n",
      "19\n",
      "171\n",
      "19\n",
      "172\n",
      "19\n",
      "173\n",
      "19\n",
      "174\n",
      "19\n",
      "175\n",
      "19\n",
      "176\n",
      "19\n",
      "177\n",
      "19\n",
      "178\n",
      "19\n",
      "179\n",
      "19\n",
      "180\n",
      "19\n",
      "181\n",
      "19\n",
      "182\n",
      "19\n",
      "183\n",
      "19\n",
      "184\n",
      "19\n",
      "185\n",
      "19\n",
      "186\n",
      "19\n",
      "187\n",
      "19\n",
      "188\n",
      "19\n",
      "189\n",
      "19\n",
      "190\n"
     ]
    }
   ],
   "source": [
    "for i in range(19,20):\n",
    "    for j in range(0, 301):\n",
    "        if j <= (i+1)*i/2:\n",
    "            print(i)\n",
    "            print(j)\n",
    "            "
   ]
  },
  {
   "cell_type": "code",
   "execution_count": 8,
   "id": "north-lincoln",
   "metadata": {},
   "outputs": [
    {
     "data": {
      "text/plain": [
       "[]"
      ]
     },
     "execution_count": 8,
     "metadata": {},
     "output_type": "execute_result"
    }
   ],
   "source": [
    "u1Used"
   ]
  },
  {
   "cell_type": "code",
   "execution_count": 591,
   "id": "aggregate-pierre",
   "metadata": {},
   "outputs": [
    {
     "data": {
      "text/plain": [
       "2"
      ]
     },
     "execution_count": 591,
     "metadata": {},
     "output_type": "execute_result"
    }
   ],
   "source": [
    "moves"
   ]
  }
 ],
 "metadata": {
  "kernelspec": {
   "display_name": "Python 3",
   "language": "python",
   "name": "python3"
  },
  "language_info": {
   "codemirror_mode": {
    "name": "ipython",
    "version": 3
   },
   "file_extension": ".py",
   "mimetype": "text/x-python",
   "name": "python",
   "nbconvert_exporter": "python",
   "pygments_lexer": "ipython3",
   "version": "3.8.5"
  }
 },
 "nbformat": 4,
 "nbformat_minor": 5
}
