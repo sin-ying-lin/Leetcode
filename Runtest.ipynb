{
 "cells": [
  {
   "cell_type": "code",
   "execution_count": 32,
   "id": "sharp-front",
   "metadata": {
    "scrolled": false
   },
   "outputs": [],
   "source": [
    "nums = [4,16,5,3,10,4,4,4,10]\n",
    "k = 3"
   ]
  },
  {
   "cell_type": "code",
   "execution_count": 104,
   "id": "chemical-acquisition",
   "metadata": {
    "scrolled": true
   },
   "outputs": [
    {
     "name": "stdout",
     "output_type": "stream",
     "text": [
      "10\n",
      "15\n"
     ]
    }
   ],
   "source": [
    "def f():\n",
    "    yield 10\n",
    "    yield 15\n",
    "    return 20\n",
    "\n",
    "output = f()\n",
    "for i in output:\n",
    "    print(i)"
   ]
  },
  {
   "cell_type": "code",
   "execution_count": 107,
   "id": "catholic-court",
   "metadata": {
    "scrolled": true
   },
   "outputs": [
    {
     "name": "stdout",
     "output_type": "stream",
     "text": [
      "10\n",
      "15\n"
     ]
    },
    {
     "ename": "StopIteration",
     "evalue": "20",
     "output_type": "error",
     "traceback": [
      "\u001b[0;31m---------------------------------------------------------------------------\u001b[0m",
      "\u001b[0;31mStopIteration\u001b[0m                             Traceback (most recent call last)",
      "\u001b[0;32m<ipython-input-107-4215ad98bfc4>\u001b[0m in \u001b[0;36m<module>\u001b[0;34m\u001b[0m\n\u001b[1;32m      2\u001b[0m \u001b[0mprint\u001b[0m\u001b[0;34m(\u001b[0m\u001b[0mnext\u001b[0m\u001b[0;34m(\u001b[0m\u001b[0mg\u001b[0m\u001b[0;34m)\u001b[0m\u001b[0;34m)\u001b[0m\u001b[0;34m\u001b[0m\u001b[0;34m\u001b[0m\u001b[0m\n\u001b[1;32m      3\u001b[0m \u001b[0mprint\u001b[0m\u001b[0;34m(\u001b[0m\u001b[0mnext\u001b[0m\u001b[0;34m(\u001b[0m\u001b[0mg\u001b[0m\u001b[0;34m)\u001b[0m\u001b[0;34m)\u001b[0m\u001b[0;34m\u001b[0m\u001b[0;34m\u001b[0m\u001b[0m\n\u001b[0;32m----> 4\u001b[0;31m \u001b[0ma\u001b[0m \u001b[0;34m=\u001b[0m \u001b[0mprint\u001b[0m\u001b[0;34m(\u001b[0m\u001b[0mnext\u001b[0m\u001b[0;34m(\u001b[0m\u001b[0mg\u001b[0m\u001b[0;34m)\u001b[0m\u001b[0;34m)\u001b[0m\u001b[0;34m\u001b[0m\u001b[0;34m\u001b[0m\u001b[0m\n\u001b[0m",
      "\u001b[0;31mStopIteration\u001b[0m: 20"
     ]
    }
   ],
   "source": [
    "g = f()\n",
    "print(next(g))\n",
    "print(next(g))\n",
    "a = print(next(g))\n"
   ]
  },
  {
   "cell_type": "code",
   "execution_count": 109,
   "id": "friendly-finger",
   "metadata": {},
   "outputs": [
    {
     "data": {
      "text/plain": [
       "{1, 2, 3}"
      ]
     },
     "execution_count": 109,
     "metadata": {},
     "output_type": "execute_result"
    }
   ],
   "source": [
    "a"
   ]
  },
  {
   "cell_type": "code",
   "execution_count": 34,
   "id": "otherwise-porter",
   "metadata": {},
   "outputs": [
    {
     "ename": "TypeError",
     "evalue": "add() takes exactly one argument (0 given)",
     "output_type": "error",
     "traceback": [
      "\u001b[0;31m---------------------------------------------------------------------------\u001b[0m",
      "\u001b[0;31mTypeError\u001b[0m                                 Traceback (most recent call last)",
      "\u001b[0;32m<ipython-input-34-fcb8bdcafbe2>\u001b[0m in \u001b[0;36m<module>\u001b[0;34m\u001b[0m\n\u001b[1;32m      4\u001b[0m \u001b[0;34m\u001b[0m\u001b[0m\n\u001b[1;32m      5\u001b[0m \u001b[0;32mfor\u001b[0m \u001b[0mi\u001b[0m \u001b[0;32min\u001b[0m \u001b[0mrange\u001b[0m\u001b[0;34m(\u001b[0m\u001b[0mlen\u001b[0m\u001b[0;34m(\u001b[0m\u001b[0mnums\u001b[0m\u001b[0;34m)\u001b[0m\u001b[0;34m)\u001b[0m\u001b[0;34m:\u001b[0m\u001b[0;34m\u001b[0m\u001b[0;34m\u001b[0m\u001b[0m\n\u001b[0;32m----> 6\u001b[0;31m     \u001b[0msubset\u001b[0m\u001b[0;34m.\u001b[0m\u001b[0madd\u001b[0m\u001b[0;34m(\u001b[0m\u001b[0;34m)\u001b[0m\u001b[0;34m\u001b[0m\u001b[0;34m\u001b[0m\u001b[0m\n\u001b[0m\u001b[1;32m      7\u001b[0m \u001b[0;34m\u001b[0m\u001b[0m\n\u001b[1;32m      8\u001b[0m     \u001b[0mnT\u001b[0m \u001b[0;34m=\u001b[0m \u001b[0mtarget\u001b[0m\u001b[0;34m-\u001b[0m\u001b[0mnums\u001b[0m\u001b[0;34m[\u001b[0m\u001b[0;36m0\u001b[0m\u001b[0;34m]\u001b[0m\u001b[0;34m-\u001b[0m\u001b[0mnums\u001b[0m\u001b[0;34m[\u001b[0m\u001b[0mi\u001b[0m\u001b[0;34m]\u001b[0m\u001b[0;34m\u001b[0m\u001b[0;34m\u001b[0m\u001b[0m\n",
      "\u001b[0;31mTypeError\u001b[0m: add() takes exactly one argument (0 given)"
     ]
    }
   ],
   "source": [
    "nums = [16,4,5,5,5,3,10,4,4,4] \n",
    "subset = set(nums)\n",
    "target = 20\n",
    "\n",
    "for i in range(len(nums)):\n",
    "    subset.add()\n",
    "    \n",
    "    nT = target-nums[0]-nums[i]\n",
    "    if nT in nums[i+1:]:\n",
    "        nums.pop(i)\n",
    "        nums.pop(0)\n",
    "        nums.pop(nums.index(nT))\n",
    "        break\n",
    "\n",
    "\n",
    "    \n",
    "        "
   ]
  },
  {
   "cell_type": "code",
   "execution_count": 68,
   "id": "driving-tension",
   "metadata": {},
   "outputs": [
    {
     "data": {
      "text/plain": [
       "[]"
      ]
     },
     "execution_count": 68,
     "metadata": {},
     "output_type": "execute_result"
    }
   ],
   "source": [
    "nums[1:1]"
   ]
  },
  {
   "cell_type": "code",
   "execution_count": 71,
   "id": "meaningful-madonna",
   "metadata": {},
   "outputs": [
    {
     "data": {
      "text/plain": [
       "{(16, 4): [5, 5, 5, 3, 10, 4, 4, 4],\n",
       " (16, 5): [4, 5, 5, 3, 10, 4, 4, 4],\n",
       " (16, 3): [4, 5, 5, 5, 10, 4, 4, 4],\n",
       " (16, 10): [4, 5, 5, 5, 3, 4, 4, 4]}"
      ]
     },
     "execution_count": 71,
     "metadata": {},
     "output_type": "execute_result"
    }
   ],
   "source": [
    "nums = [16,4,5,5,5,3,10,4,4,4] \n",
    "subset = dict()\n",
    "\n",
    "for i in range(1,len(nums)):\n",
    "    if (nums[0], nums[i]) not in subset:\n",
    "        subset[(nums[0], nums[i])] = nums[1:i] + nums[min(len(nums)-1, i+1):]\n",
    "\n",
    "if subset.keys()\n"
   ]
  },
  {
   "cell_type": "code",
   "execution_count": 76,
   "id": "established-basic",
   "metadata": {},
   "outputs": [
    {
     "data": {
      "text/plain": [
       "[5, 5, 5, 3, 10, 4, 4, 4]"
      ]
     },
     "execution_count": 76,
     "metadata": {},
     "output_type": "execute_result"
    }
   ],
   "source": [
    "for k in subset:\n",
    "    if sum(k) == 20:\n",
    "        nNum = subset[k]\n",
    "        \n"
   ]
  },
  {
   "cell_type": "code",
   "execution_count": 77,
   "id": "productive-transition",
   "metadata": {},
   "outputs": [],
   "source": [
    "nums = nNum \n",
    "subset = dict()\n",
    "\n",
    "for i in range(1,len(nums)):\n",
    "    if (nums[0], nums[i]) not in subset:\n",
    "        subset[(nums[0], nums[i])] = nums[1:i] + nums[min(len(nums)-1, i+1):]\n",
    "\n",
    "for k in subset:\n",
    "    if sum(k) == 20:\n",
    "        nNum = subset[k]"
   ]
  },
  {
   "cell_type": "code",
   "execution_count": 82,
   "id": "animated-baltimore",
   "metadata": {},
   "outputs": [
    {
     "name": "stdout",
     "output_type": "stream",
     "text": [
      "hi\n"
     ]
    }
   ],
   "source": [
    "dp = [0,0,0,0]\n",
    "if not dp[1]:\n",
    "    print('hi')"
   ]
  },
  {
   "cell_type": "code",
   "execution_count": 81,
   "id": "automatic-perth",
   "metadata": {},
   "outputs": [
    {
     "data": {
      "text/plain": [
       "{(5, 5): [5, 3, 10, 4, 4, 4],\n",
       " (5, 3): [5, 5, 10, 4, 4, 4],\n",
       " (5, 10): [5, 5, 3, 4, 4, 4],\n",
       " (5, 4): [5, 5, 3, 10, 4, 4]}"
      ]
     },
     "execution_count": 81,
     "metadata": {},
     "output_type": "execute_result"
    }
   ],
   "source": [
    "subset"
   ]
  },
  {
   "cell_type": "code",
   "execution_count": null,
   "id": "phantom-nylon",
   "metadata": {},
   "outputs": [],
   "source": [
    "for i, j in pos:\n",
    "        knownRow = [board[i][k] for k in range(9) if len(board[i][k]) == 1]\n",
    "        knownCol = [board[l][j] for l in range(9) if len(board[l][j])== 1]\n",
    "        knownSub = [board[(i//3)*3+ m][(j//3)*3+n] \n",
    "                    for m in range(3) \n",
    "                    for n in range(3) if len(board[(i//3)*3+ m][(j//3)*3+n]) == 1]\n",
    "        \n",
    "        nAsw = board[i][j] - set(knownRow+knownCol+knownSub)\n",
    "\n",
    "        #print(i,j, nAsw, board[i][j], knownRow, knownCol, knownSub)\n",
    "        if len(nAsw) == 1:\n",
    "            board[i][j] = list(nAsw)[0]\n",
    "            #print(i,j, nAsw)\n",
    "            remove.append((i,j))\n",
    "        else:\n",
    "            board[i][j] = nAsw"
   ]
  },
  {
   "cell_type": "code",
   "execution_count": null,
   "id": "developed-dallas",
   "metadata": {},
   "outputs": [],
   "source": [
    "oldBoard"
   ]
  },
  {
   "cell_type": "code",
   "execution_count": null,
   "id": "angry-transparency",
   "metadata": {},
   "outputs": [],
   "source": [
    "oldBoard"
   ]
  },
  {
   "cell_type": "code",
   "execution_count": null,
   "id": "essential-bishop",
   "metadata": {},
   "outputs": [],
   "source": [
    "a = set()\n",
    "b = set([1])\n",
    "b-a"
   ]
  },
  {
   "cell_type": "code",
   "execution_count": null,
   "id": "taken-monitoring",
   "metadata": {
    "scrolled": true
   },
   "outputs": [],
   "source": [
    "board"
   ]
  },
  {
   "cell_type": "code",
   "execution_count": null,
   "id": "strange-humor",
   "metadata": {},
   "outputs": [],
   "source": [
    "def Clean(s):\n",
    "    stringList = []\n",
    "    for i in s: \n",
    "        if i != ''.join(reversed(i)):\n",
    "            stringList.extend(Clean(helper(i)))\n",
    "        else:\n",
    "            stringList.append(i)\n",
    "    return stringList\n",
    "            \n",
    "      "
   ]
  },
  {
   "cell_type": "code",
   "execution_count": null,
   "id": "applied-cement",
   "metadata": {},
   "outputs": [],
   "source": [
    "helper(s)"
   ]
  },
  {
   "cell_type": "code",
   "execution_count": null,
   "id": "according-screening",
   "metadata": {},
   "outputs": [],
   "source": [
    "resList = Clean(['abc', 'bb'])"
   ]
  },
  {
   "cell_type": "code",
   "execution_count": null,
   "id": "historical-durham",
   "metadata": {},
   "outputs": [],
   "source": [
    "maxlen = 0\n",
    "res = ''\n",
    "for i in resList:\n",
    "    if len(i) > maxlen:\n",
    "        maxlen = len(i)\n",
    "        res = i\n",
    "        \n",
    "res"
   ]
  },
  {
   "cell_type": "code",
   "execution_count": null,
   "id": "south-positive",
   "metadata": {},
   "outputs": [],
   "source": [
    "substring = ''\n",
    "for i in range(len(match)):\n",
    "    if match[i] == 1:\n",
    "        substring += s[i]\n",
    "    else: \n",
    "        if substring != ''.join(reversed(substring)):\n",
    "            \n",
    "        \n",
    "        substring ==  \n",
    "    print(substring)"
   ]
  },
  {
   "cell_type": "code",
   "execution_count": null,
   "id": "comfortable-match",
   "metadata": {},
   "outputs": [],
   "source": []
  },
  {
   "cell_type": "code",
   "execution_count": null,
   "id": "responsible-freeware",
   "metadata": {},
   "outputs": [],
   "source": []
  },
  {
   "cell_type": "code",
   "execution_count": 35,
   "id": "provincial-recorder",
   "metadata": {},
   "outputs": [
    {
     "ename": "SyntaxError",
     "evalue": "invalid syntax (<ipython-input-35-1eff7f21d1c1>, line 1)",
     "output_type": "error",
     "traceback": [
      "\u001b[0;36m  File \u001b[0;32m\"<ipython-input-35-1eff7f21d1c1>\"\u001b[0;36m, line \u001b[0;32m1\u001b[0m\n\u001b[0;31m    if len(maxConStr) < length\u001b[0m\n\u001b[0m                              ^\u001b[0m\n\u001b[0;31mSyntaxError\u001b[0m\u001b[0;31m:\u001b[0m invalid syntax\n"
     ]
    }
   ],
   "source": [
    "if len(maxConStr) < length"
   ]
  },
  {
   "cell_type": "code",
   "execution_count": null,
   "id": "sonic-anderson",
   "metadata": {},
   "outputs": [],
   "source": [
    "help(gg.get)"
   ]
  },
  {
   "cell_type": "code",
   "execution_count": null,
   "id": "standing-potential",
   "metadata": {},
   "outputs": [],
   "source": [
    "id(a)"
   ]
  },
  {
   "cell_type": "code",
   "execution_count": null,
   "id": "robust-cedar",
   "metadata": {},
   "outputs": [],
   "source": [
    "int('s',2)"
   ]
  },
  {
   "cell_type": "code",
   "execution_count": null,
   "id": "automotive-delivery",
   "metadata": {
    "scrolled": true
   },
   "outputs": [],
   "source": [
    "tList[tList.index('e')+1:]"
   ]
  },
  {
   "cell_type": "code",
   "execution_count": null,
   "id": "initial-quantity",
   "metadata": {},
   "outputs": [],
   "source": [
    "(len([1 for i in range(len(stack)-1) if stack[i] < stack[i+1]]) == (len(sList)-1))\n",
    "    "
   ]
  },
  {
   "cell_type": "code",
   "execution_count": null,
   "id": "electronic-metropolitan",
   "metadata": {},
   "outputs": [],
   "source": [
    "stack"
   ]
  },
  {
   "cell_type": "code",
   "execution_count": null,
   "id": "ruled-modeling",
   "metadata": {},
   "outputs": [],
   "source": [
    "tList.index(i)"
   ]
  },
  {
   "cell_type": "code",
   "execution_count": null,
   "id": "narrative-journey",
   "metadata": {},
   "outputs": [],
   "source": [
    "int(N/2)"
   ]
  },
  {
   "cell_type": "code",
   "execution_count": null,
   "id": "italic-margin",
   "metadata": {},
   "outputs": [],
   "source": []
  },
  {
   "cell_type": "code",
   "execution_count": null,
   "id": "composite-slope",
   "metadata": {},
   "outputs": [],
   "source": [
    "abs(points[i+1][0] - points[i][0])"
   ]
  },
  {
   "cell_type": "code",
   "execution_count": null,
   "id": "intimate-reproduction",
   "metadata": {},
   "outputs": [],
   "source": [
    "def try(maxCI, total):\n",
    "    largestSum = 0\n",
    "    needsN = 0\n",
    "    CI = [i for i in range(1,maxCI+1)]\n",
    "\n",
    "    while largestSum < total:\n",
    "        needsN += 1\n",
    "        largestSum += (maxCI - needsN + 1)\n",
    "\n",
    "    while result = []:\n",
    "        if needsN%2 != 0:\n",
    "            secPlayerMove = needsN//2\n",
    "            secPlayerMoveSpace = sum(CI[-needsN:-needsN+secPlayerMove+1])- sum(CI[0:secPlayerMove+1])\n",
    "            if(largestSum-total) >= secPlayerMoveSpace: \n",
    "                return True \n",
    "            else: \n",
    "                needsN += 1\n",
    "                largestSum = sum(CI[-needsN-1:-needsN+1])+CI[0]\n",
    "                \n",
    "                \n",
    "        if needsN%2 == 0:\n",
    "            smallestSum = sum(CI[0:needsN])\n",
    "            secPlayerMove = needsN//2\n",
    "            secPlayerMoveSpace = sum(CI[maxCI-secPlayerMove-1: maxCI]) - sum(CI[needsN-secPlayerMove: needsN+1])\n",
    "    if (largestSum - total) <= secPlayerMoveSpace and sum(CI[0:needsN+1])+ (CI[maxCI-1]- CI[needsN])*(needsN+1//2) >= total:\n",
    "        print(False)\n",
    "    else:\n",
    "        print(True)\n",
    "else: \n",
    "    firPlayerMove = needsN//2\n",
    "    firPlayerMoveSpace = (CI[-needsN]-CI[0])*firPlayerMove\n",
    "    if (largestSum - total) >= firPlayerMoveSpace:\n",
    "        print(False)\n",
    "    else: \n",
    "        print(True)\n",
    "\n",
    "\n",
    "    "
   ]
  },
  {
   "cell_type": "code",
   "execution_count": null,
   "id": "finished-halifax",
   "metadata": {},
   "outputs": [],
   "source": [
    "CI[-needsN-1:-needsN+1]"
   ]
  },
  {
   "cell_type": "code",
   "execution_count": null,
   "id": "individual-screening",
   "metadata": {},
   "outputs": [],
   "source": []
  },
  {
   "cell_type": "code",
   "execution_count": null,
   "id": "inner-registrar",
   "metadata": {},
   "outputs": [],
   "source": [
    "(needsN+2)*(needsN+1)/2"
   ]
  },
  {
   "cell_type": "code",
   "execution_count": null,
   "id": "needed-customer",
   "metadata": {},
   "outputs": [],
   "source": [
    "CI = [i for i in range(1, maxCI + 1)]\n",
    "\n",
    "\n",
    "for i in CI:\n",
    "    CI.pop(0)\n",
    "    if (T-i) <= 0: \n",
    "        print(True)\n",
    "    elif (T-i) in CI:\n",
    "        print(False)"
   ]
  },
  {
   "cell_type": "code",
   "execution_count": null,
   "id": "curious-phone",
   "metadata": {},
   "outputs": [],
   "source": []
  },
  {
   "cell_type": "code",
   "execution_count": null,
   "id": "instructional-satellite",
   "metadata": {},
   "outputs": [],
   "source": []
  },
  {
   "cell_type": "code",
   "execution_count": null,
   "id": "available-steel",
   "metadata": {},
   "outputs": [],
   "source": []
  },
  {
   "cell_type": "code",
   "execution_count": null,
   "id": "lined-salem",
   "metadata": {},
   "outputs": [],
   "source": [
    "[i for i in arr]"
   ]
  },
  {
   "cell_type": "code",
   "execution_count": null,
   "id": "interesting-panic",
   "metadata": {},
   "outputs": [],
   "source": [
    "set(words[0]) - set(allowed)"
   ]
  },
  {
   "cell_type": "code",
   "execution_count": null,
   "id": "architectural-level",
   "metadata": {},
   "outputs": [],
   "source": [
    "s"
   ]
  },
  {
   "cell_type": "code",
   "execution_count": null,
   "id": "experimental-amateur",
   "metadata": {},
   "outputs": [],
   "source": [
    "range(9)"
   ]
  },
  {
   "cell_type": "code",
   "execution_count": null,
   "id": "banned-mechanics",
   "metadata": {},
   "outputs": [],
   "source": [
    "string[2] = '1'"
   ]
  },
  {
   "cell_type": "code",
   "execution_count": null,
   "id": "minor-credit",
   "metadata": {},
   "outputs": [],
   "source": [
    "parking = [0,1,2]"
   ]
  },
  {
   "cell_type": "code",
   "execution_count": null,
   "id": "divine-aruba",
   "metadata": {},
   "outputs": [],
   "source": [
    "parking[0] = 1\n",
    "parking"
   ]
  },
  {
   "cell_type": "code",
   "execution_count": null,
   "id": "returning-today",
   "metadata": {},
   "outputs": [],
   "source": [
    "\n",
    "\n",
    "res = 0\n",
    "for i in [1,3,5]:\n",
    "    stack = arr.copy()\n",
    "    while len(stack) >= i:\n",
    "        res += sum(stack[0:0+i])\n",
    "        stack.pop(0)\n",
    "        print(stack)\n",
    "\n",
    "res"
   ]
  },
  {
   "cell_type": "code",
   "execution_count": null,
   "id": "nasty-enough",
   "metadata": {},
   "outputs": [],
   "source": [
    "res"
   ]
  },
  {
   "cell_type": "code",
   "execution_count": null,
   "id": "boolean-nicaragua",
   "metadata": {},
   "outputs": [],
   "source": [
    "\n",
    "for i in [1,3,5]:\n",
    "    u = stack.pop(i)\n",
    "    res += "
   ]
  },
  {
   "cell_type": "code",
   "execution_count": null,
   "id": "ordered-concept",
   "metadata": {},
   "outputs": [],
   "source": [
    "[TreeNode{val: 5, \n",
    "          left: TreeNode{val: 3, left: None, right: None}, \n",
    "          right: TreeNode{val: 7, left: None, right: None}}, \n",
    " TreeNode{val: 15, \n",
    "          left: None, \n",
    "          right: TreeNode{val: 18, left: None, right: None}}]\n",
    "\n",
    "\n",
    "[TreeNode{val: 5, \n",
    "          left: TreeNode{val: 3, left: None, right: None}, \n",
    "          right: TreeNode{val: 7, left: None, right: None}}, \n",
    " TreeNode{val: 18, left: None, right: None}]\n",
    "\n",
    "[TreeNode{val: 5, \n",
    "          left: TreeNode{val: 3, left: None, right: None}, \n",
    "          right: TreeNode{val: 7, left: None, right: None}}]\n",
    "\n",
    "[TreeNode{val: 7, left: None, right: None}]\n",
    "\n",
    "[]\n"
   ]
  },
  {
   "cell_type": "code",
   "execution_count": null,
   "id": "contained-target",
   "metadata": {},
   "outputs": [],
   "source": [
    "[s[:i].count('L')  == i for i in range(len(s))]"
   ]
  },
  {
   "cell_type": "code",
   "execution_count": null,
   "id": "viral-yugoslavia",
   "metadata": {},
   "outputs": [],
   "source": [
    "[s[:i].count('L')*2  == i for i in range(len(s))]"
   ]
  },
  {
   "cell_type": "code",
   "execution_count": null,
   "id": "lyric-essex",
   "metadata": {},
   "outputs": [],
   "source": [
    "[s[:i] for i in range(len(s))]"
   ]
  },
  {
   "cell_type": "code",
   "execution_count": null,
   "id": "unauthorized-privacy",
   "metadata": {},
   "outputs": [],
   "source": [
    "[i for i in range(len(s))]"
   ]
  },
  {
   "cell_type": "code",
   "execution_count": null,
   "id": "therapeutic-christmas",
   "metadata": {},
   "outputs": [],
   "source": []
  }
 ],
 "metadata": {
  "kernelspec": {
   "display_name": "Python 3",
   "language": "python",
   "name": "python3"
  },
  "language_info": {
   "codemirror_mode": {
    "name": "ipython",
    "version": 3
   },
   "file_extension": ".py",
   "mimetype": "text/x-python",
   "name": "python",
   "nbconvert_exporter": "python",
   "pygments_lexer": "ipython3",
   "version": "3.8.5"
  }
 },
 "nbformat": 4,
 "nbformat_minor": 5
}
